{
 "cells": [
  {
   "cell_type": "code",
   "execution_count": 26,
   "metadata": {},
   "outputs": [],
   "source": [
    "from tqdm import tqdm\n",
    "import requests\n",
    "from bs4 import BeautifulSoup\n",
    "from time import sleep\n",
    "import pandas as pd\n",
    "from urllib.request import Request, urlopen\n"
   ]
  },
  {
   "cell_type": "code",
   "execution_count": 27,
   "metadata": {
    "tags": []
   },
   "outputs": [],
   "source": [
    "pre_url = \"https://www.scorebing.com/fixtures/\"\n",
    "\n",
    "\n",
    "def get_pages(pre_url):\n",
    "    ano = range(2020,2021)\n",
    "    mes = range(1,13)\n",
    "    dia = range(1,32)\n",
    "    pag = range(1,11)\n",
    "\n",
    "    urls = []\n",
    "\n",
    "    for a in ano:\n",
    "        for m in mes:\n",
    "            for d in dia:\n",
    "                for p in pag:\n",
    "                    url = pre_url + str(a) + str(m).zfill(2) + str(d).zfill(2) + \"/p.\" + str(p)\n",
    "                    urls.append(url)\n",
    "    return urls\n"
   ]
  },
  {
   "cell_type": "code",
   "execution_count": 28,
   "metadata": {},
   "outputs": [],
   "source": [
    "\n",
    "urls = get_pages(pre_url)\n",
    "\n"
   ]
  },
  {
   "cell_type": "code",
   "execution_count": 36,
   "metadata": {},
   "outputs": [
    {
     "output_type": "execute_result",
     "data": {
      "text/plain": "['https://www.scorebing.com/fixtures/20200101/p.1',\n 'https://www.scorebing.com/fixtures/20200101/p.2',\n 'https://www.scorebing.com/fixtures/20200101/p.3',\n 'https://www.scorebing.com/fixtures/20200101/p.4',\n 'https://www.scorebing.com/fixtures/20200101/p.5',\n 'https://www.scorebing.com/fixtures/20200101/p.6',\n 'https://www.scorebing.com/fixtures/20200101/p.7',\n 'https://www.scorebing.com/fixtures/20200101/p.8',\n 'https://www.scorebing.com/fixtures/20200101/p.9',\n 'https://www.scorebing.com/fixtures/20200101/p.10',\n 'https://www.scorebing.com/fixtures/20200102/p.1',\n 'https://www.scorebing.com/fixtures/20200102/p.2']"
     },
     "metadata": {},
     "execution_count": 36
    }
   ],
   "source": [
    " \n",
    " urls_test = urls[0:12]\n",
    " urls_test"
   ]
  },
  {
   "cell_type": "code",
   "execution_count": 50,
   "metadata": {
    "tags": []
   },
   "outputs": [
    {
     "output_type": "stream",
     "name": "stdout",
     "text": "None\n当您看到这个页面，说明您已经在小黑屋，请联系客服QQ：1562716566 解决。您的IP是 177.75.128.66\nNone\n当您看到这个页面，说明您已经在小黑屋，请联系客服QQ：1562716566 解决。您的IP是 177.75.128.66\nNone\n当您看到这个页面，说明您已经在小黑屋，请联系客服QQ：1562716566 解决。您的IP是 177.75.128.66\nNone\n当您看到这个页面，说明您已经在小黑屋，请联系客服QQ：1562716566 解决。您的IP是 177.75.128.66\nNone\n当您看到这个页面，说明您已经在小黑屋，请联系客服QQ：1562716566 解决。您的IP是 177.75.128.66\nNone\n当您看到这个页面，说明您已经在小黑屋，请联系客服QQ：1562716566 解决。您的IP是 177.75.128.66\nNone\n当您看到这个页面，说明您已经在小黑屋，请联系客服QQ：1562716566 解决。您的IP是 177.75.128.66\nNone\n当您看到这个页面，说明您已经在小黑屋，请联系客服QQ：1562716566 解决。您的IP是 177.75.128.66\nNone\n当您看到这个页面，说明您已经在小黑屋，请联系客服QQ：1562716566 解决。您的IP是 177.75.128.66\nNone\n当您看到这个页面，说明您已经在小黑屋，请联系客服QQ：1562716566 解决。您的IP是 177.75.128.66\nNone\n当您看到这个页面，说明您已经在小黑屋，请联系客服QQ：1562716566 解决。您的IP是 177.75.128.66\nNone\n当您看到这个页面，说明您已经在小黑屋，请联系客服QQ：1562716566 解决。您的IP是 177.75.128.66\n"
    }
   ],
   "source": [
    "\n",
    "for url in urls_test:\n",
    "    hdr = {'User-Agent': 'Mozilla/5.0'}\n",
    "    req = Request(url,headers=hdr)\n",
    "    page = urlopen(req)\n",
    "    soup = BeautifulSoup(page)\n",
    "    if soup.find(\"div\", class_=\".no-data\") == []:\n",
    "        print(\"No Data\")\n",
    "    else:\n",
    "        print(soup.find(\"div\", {\"class\": \"no-data\"}))\n",
    "        print(soup)"
   ]
  },
  {
   "cell_type": "code",
   "execution_count": null,
   "metadata": {},
   "outputs": [],
   "source": []
  }
 ],
 "metadata": {
  "kernelspec": {
   "name": "python38332bitscrapervenv4156b078cbea4486a0dfd352fbee11d5",
   "display_name": "Python 3.8.3 32-bit ('scraper': venv)"
  }
 },
 "nbformat": 4,
 "nbformat_minor": 4
}